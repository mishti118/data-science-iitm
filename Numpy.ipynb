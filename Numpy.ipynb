{
  "nbformat": 4,
  "nbformat_minor": 0,
  "metadata": {
    "colab": {
      "private_outputs": true,
      "provenance": []
    },
    "kernelspec": {
      "name": "python3",
      "display_name": "Python 3"
    },
    "language_info": {
      "name": "python"
    }
  },
  "cells": [
    {
      "cell_type": "code",
      "source": [
        "q1_sales = [23,45,56]\n",
        "q2_sales = [33,65,86]\n",
        "q3_sales = [43,55,86]\n",
        "q4_sales = [53,55,96]\n",
        "\n",
        "\n",
        "import numpy as np\n",
        "print('done')"
      ],
      "metadata": {
        "id": "uuWDuWSQgKgA"
      },
      "execution_count": null,
      "outputs": []
    },
    {
      "cell_type": "code",
      "source": [
        "np.__version__"
      ],
      "metadata": {
        "id": "H5JYyx_qmoo6"
      },
      "execution_count": null,
      "outputs": []
    },
    {
      "cell_type": "code",
      "source": [
        "# read images:\n",
        "# pil, IPython, matplotlib, opencv"
      ],
      "metadata": {
        "id": "C_Mv3nWfmqCF"
      },
      "execution_count": null,
      "outputs": []
    },
    {
      "cell_type": "code",
      "source": [
        "import matplotlib.pyplot as plt\n",
        "print('done')"
      ],
      "metadata": {
        "id": "xsYmSaEJm89q"
      },
      "execution_count": null,
      "outputs": []
    },
    {
      "cell_type": "code",
      "source": [
        "# read, Image: array Form"
      ],
      "metadata": {
        "id": "2sGV3ZHknClb"
      },
      "execution_count": null,
      "outputs": []
    },
    {
      "cell_type": "code",
      "source": [
        "arr = plt.imread(r'/content/amitabh.jpg')\n",
        "print('Done')"
      ],
      "metadata": {
        "id": "brjZMZlanPBI"
      },
      "execution_count": null,
      "outputs": []
    },
    {
      "cell_type": "code",
      "source": [
        "arr_0 = np.array(5678)\n",
        "arr_0.ndim"
      ],
      "metadata": {
        "id": "suQbq_07na_c"
      },
      "execution_count": null,
      "outputs": []
    },
    {
      "cell_type": "code",
      "source": [
        "arr_1 = np.array([124,3,4,3456])\n",
        "\n",
        "print(arr_1)"
      ],
      "metadata": {
        "id": "58Ouj41nrVIC"
      },
      "execution_count": null,
      "outputs": []
    },
    {
      "cell_type": "code",
      "source": [
        "arr_1.ndim"
      ],
      "metadata": {
        "id": "7BKGHc5XrX_8"
      },
      "execution_count": null,
      "outputs": []
    },
    {
      "cell_type": "code",
      "source": [
        "arr_2 = np.array([[1,2,34],\n",
        "                 [3,4,5]])\n",
        "arr_2"
      ],
      "metadata": {
        "id": "WwD68-QQrZKh"
      },
      "execution_count": null,
      "outputs": []
    },
    {
      "cell_type": "code",
      "source": [
        "arr_2.ndim"
      ],
      "metadata": {
        "id": "POBq-d4arbK5"
      },
      "execution_count": null,
      "outputs": []
    },
    {
      "cell_type": "code",
      "source": [
        "arr_3 = np.array([[[12,4,354]]])\n",
        "\n",
        "arr_3"
      ],
      "metadata": {
        "id": "mDdzizpnrcRn"
      },
      "execution_count": null,
      "outputs": []
    },
    {
      "cell_type": "code",
      "source": [
        "arr_3.ndim"
      ],
      "metadata": {
        "id": "nS5OnCKzr3uE"
      },
      "execution_count": null,
      "outputs": []
    },
    {
      "cell_type": "code",
      "source": [
        "arr_2.shape"
      ],
      "metadata": {
        "id": "ZoD3nWPQr5G4"
      },
      "execution_count": null,
      "outputs": []
    },
    {
      "cell_type": "code",
      "source": [
        "arr_2"
      ],
      "metadata": {
        "id": "4KwIhs8asVN-"
      },
      "execution_count": null,
      "outputs": []
    },
    {
      "cell_type": "code",
      "source": [
        "# r,c = row, col"
      ],
      "metadata": {
        "id": "bhevKAbzsXgM"
      },
      "execution_count": null,
      "outputs": []
    },
    {
      "cell_type": "code",
      "source": [
        "arr_3.shape"
      ],
      "metadata": {
        "id": "m2TX7EvQsd9w"
      },
      "execution_count": null,
      "outputs": []
    },
    {
      "cell_type": "code",
      "source": [
        "arr_3"
      ],
      "metadata": {
        "id": "8oerAHURsff6"
      },
      "execution_count": null,
      "outputs": []
    },
    {
      "cell_type": "code",
      "source": [
        "arr_3_new = np.array([[[1,2,3],\n",
        "                     [3,4,5]]])\n",
        "arr_3_new"
      ],
      "metadata": {
        "id": "YSvT60gdszsK"
      },
      "execution_count": null,
      "outputs": []
    },
    {
      "cell_type": "code",
      "source": [
        "arr_3_new.shape"
      ],
      "metadata": {
        "id": "WB8KXSK1tD4O"
      },
      "execution_count": null,
      "outputs": []
    },
    {
      "cell_type": "code",
      "source": [
        "arr_3_new_again = np.array([[[1,2,3],\n",
        "                             [3,4,5]],\n",
        "\n",
        "                            [[11,12,13],\n",
        "                             [13,14,15]]])\n",
        "arr_3_new_again"
      ],
      "metadata": {
        "id": "rq2ms0cntFvT"
      },
      "execution_count": null,
      "outputs": []
    },
    {
      "cell_type": "code",
      "source": [
        "arr_3_new_again.shape"
      ],
      "metadata": {
        "id": "Gr1JmVyjtqbb"
      },
      "execution_count": null,
      "outputs": []
    },
    {
      "cell_type": "code",
      "source": [
        "# (3,3,3)\n",
        "# (3,5,5)"
      ],
      "metadata": {
        "id": "LpE6ELpqtsvH"
      },
      "execution_count": null,
      "outputs": []
    },
    {
      "cell_type": "code",
      "source": [
        "arr_3_3 = np.array([[[1,2,3],[2,3,4],[2,3,4]],\n",
        "         [[1,2,3],[2,3,4],[2,3,4]],\n",
        "         [[1,2,3],[2,3,4],[2,3,4]]])\n"
      ],
      "metadata": {
        "id": "H15O65K4uGQE"
      },
      "execution_count": null,
      "outputs": []
    },
    {
      "cell_type": "code",
      "source": [
        "arr_3_3.shape"
      ],
      "metadata": {
        "id": "tpCOO-_QvYjw"
      },
      "execution_count": null,
      "outputs": []
    },
    {
      "cell_type": "code",
      "source": [
        "arr_3_3"
      ],
      "metadata": {
        "id": "CQkNYSggvZwz"
      },
      "execution_count": null,
      "outputs": []
    },
    {
      "cell_type": "code",
      "source": [
        "# 3,5,5"
      ],
      "metadata": {
        "id": "Wz-m-5d1vbRW"
      },
      "execution_count": null,
      "outputs": []
    },
    {
      "cell_type": "code",
      "source": [
        "arr_3_5 = np.array(\n",
        "                    [\n",
        "                    [[1,2,3,4,5],[1,2,3,4,5],[1,2,3,4,5],[1,2,3,4,5],[1,2,3,4,5]],\n",
        "                    [[1,2,3,4,5],[1,2,3,4,5],[1,2,3,4,5],[1,2,3,4,5],[1,2,3,4,5]],\n",
        "                    [[1,2,3,4,5],[1,2,3,4,5],[1,2,3,4,5],[1,2,3,4,5],[1,2,3,4,5]]\n",
        "                    ]\n",
        "                   )\n",
        "\n"
      ],
      "metadata": {
        "id": "Pf56cQdRwK2m"
      },
      "execution_count": null,
      "outputs": []
    },
    {
      "cell_type": "code",
      "source": [
        "arr_3_5"
      ],
      "metadata": {
        "id": "15C26zoAwqIW"
      },
      "execution_count": null,
      "outputs": []
    },
    {
      "cell_type": "code",
      "source": [
        "arr_3_5.ndim"
      ],
      "metadata": {
        "id": "RkjcN5jRwq7_"
      },
      "execution_count": null,
      "outputs": []
    },
    {
      "cell_type": "code",
      "source": [
        "arr_3_5.shape"
      ],
      "metadata": {
        "id": "ZVYo98Gbwv73"
      },
      "execution_count": null,
      "outputs": []
    },
    {
      "cell_type": "code",
      "source": [
        "arr_3_5.size"
      ],
      "metadata": {
        "id": "245rUSu9ww3l"
      },
      "execution_count": null,
      "outputs": []
    },
    {
      "cell_type": "code",
      "source": [
        "# 5,3,3,5"
      ],
      "metadata": {
        "id": "dGfpjv_4w3UO"
      },
      "execution_count": null,
      "outputs": []
    },
    {
      "cell_type": "code",
      "source": [
        "np.random.randint(1,100,(5,5))"
      ],
      "metadata": {
        "id": "LFdexLzgyAI3"
      },
      "execution_count": null,
      "outputs": []
    },
    {
      "cell_type": "code",
      "source": [
        "np.random.randint(1,100,(3,3,3))"
      ],
      "metadata": {
        "id": "0-Iv3KKJyJB2"
      },
      "execution_count": null,
      "outputs": []
    },
    {
      "cell_type": "code",
      "source": [
        "ar = np.random.randint(1,100,(5,3,3,5))\n",
        "ar"
      ],
      "metadata": {
        "id": "MikCNLc5yTMY"
      },
      "execution_count": null,
      "outputs": []
    },
    {
      "cell_type": "code",
      "source": [
        "final_arr = np.random.randint(1,50,(3,3,3))\n",
        "final_arr"
      ],
      "metadata": {
        "id": "ygty8DrCytjx"
      },
      "execution_count": null,
      "outputs": []
    },
    {
      "cell_type": "code",
      "source": [
        "final_arr + 100"
      ],
      "metadata": {
        "id": "bEuESivSzpwg"
      },
      "execution_count": null,
      "outputs": []
    },
    {
      "cell_type": "code",
      "source": [
        "final_arr - 100"
      ],
      "metadata": {
        "id": "53WtxO4Xz_BP"
      },
      "execution_count": null,
      "outputs": []
    },
    {
      "cell_type": "code",
      "source": [
        "final_arr * 100"
      ],
      "metadata": {
        "id": "8CFCpjpk0JTp"
      },
      "execution_count": null,
      "outputs": []
    },
    {
      "cell_type": "code",
      "source": [
        "final_arr ** .5"
      ],
      "metadata": {
        "id": "dWE4Y9Fr0LHI"
      },
      "execution_count": null,
      "outputs": []
    },
    {
      "cell_type": "code",
      "source": [
        "arr = plt.imread(r'/content/amitabh.jpg').astype('int16')\n",
        "arr.dtype"
      ],
      "metadata": {
        "id": "D8Iq9R3X0b1H"
      },
      "execution_count": null,
      "outputs": []
    },
    {
      "cell_type": "code",
      "source": [
        "plt.imshow(arr*10)"
      ],
      "metadata": {
        "id": "8k7pEZ0d1npr"
      },
      "execution_count": null,
      "outputs": []
    },
    {
      "cell_type": "code",
      "source": [],
      "metadata": {
        "id": "__JZ8v1u1MSo"
      },
      "execution_count": null,
      "outputs": []
    },
    {
      "cell_type": "code",
      "source": [
        "arr.shape"
      ],
      "metadata": {
        "id": "_Lx1d3_p1OVN"
      },
      "execution_count": null,
      "outputs": []
    },
    {
      "cell_type": "code",
      "source": [
        "import matplotlib.pyplot as plt\n",
        "arr = plt.imread(r'/content/amitabh.jpg')\n",
        "for i in range(1,100):\n",
        "  import time\n",
        "  print('value of i: ',i)\n",
        "  display(clear = True)\n",
        "\n",
        "  plt.imshow(arr + i)\n",
        "  plt.show()\n",
        "  time.sleep(1)"
      ],
      "metadata": {
        "id": "iW8IQj9s2p5r"
      },
      "execution_count": null,
      "outputs": []
    },
    {
      "cell_type": "code",
      "source": [
        "# slicing and indexing"
      ],
      "metadata": {
        "id": "cr4oN5un3zrx"
      },
      "execution_count": null,
      "outputs": []
    },
    {
      "cell_type": "code",
      "source": [
        "import numpy as np\n",
        "ar_1 = np.random.randint(1,10,10)\n",
        "ar_1"
      ],
      "metadata": {
        "id": "vpg8jbC35yMO"
      },
      "execution_count": null,
      "outputs": []
    },
    {
      "cell_type": "code",
      "source": [
        "a_2 = np.random.randint(1,10,(3,3))\n",
        "a_2"
      ],
      "metadata": {
        "id": "OF5EBLV653HR"
      },
      "execution_count": null,
      "outputs": []
    },
    {
      "cell_type": "code",
      "source": [
        "# 1,1"
      ],
      "metadata": {
        "id": "-S6JHb8R6KRR"
      },
      "execution_count": null,
      "outputs": []
    },
    {
      "cell_type": "code",
      "source": [
        "print(a_2[1,1])"
      ],
      "metadata": {
        "id": "g_Os8KMs6sDG"
      },
      "execution_count": null,
      "outputs": []
    },
    {
      "cell_type": "code",
      "source": [
        "a_2[0:3,0:3]"
      ],
      "metadata": {
        "id": "aL09vI-86x62"
      },
      "execution_count": null,
      "outputs": []
    },
    {
      "cell_type": "code",
      "source": [
        "a_2[:3,:3]"
      ],
      "metadata": {
        "id": "ErAfp-Ol7P3w"
      },
      "execution_count": null,
      "outputs": []
    },
    {
      "cell_type": "code",
      "source": [
        "a_2[::2,::2]"
      ],
      "metadata": {
        "id": "xlvnv2Z27cEg"
      },
      "execution_count": null,
      "outputs": []
    },
    {
      "cell_type": "code",
      "source": [
        "a_2[::2,::2] = 100"
      ],
      "metadata": {
        "id": "ydGbPGYC7efR"
      },
      "execution_count": null,
      "outputs": []
    },
    {
      "cell_type": "code",
      "source": [
        "a_2"
      ],
      "metadata": {
        "id": "A2z0YPLC8Q0P"
      },
      "execution_count": null,
      "outputs": []
    },
    {
      "cell_type": "code",
      "source": [
        "arr_3 = np.random.randint(1,100,(3,3,3))\n",
        "arr_3"
      ],
      "metadata": {
        "id": "CInPX39y8R_h"
      },
      "execution_count": null,
      "outputs": []
    },
    {
      "cell_type": "code",
      "source": [
        "arr_3[2,0,2]"
      ],
      "metadata": {
        "id": "qKqYQ9Op8-Fg"
      },
      "execution_count": null,
      "outputs": []
    },
    {
      "cell_type": "code",
      "source": [
        "arr_3[:,::2,::2]"
      ],
      "metadata": {
        "id": "zCgAH5ss9aww"
      },
      "execution_count": null,
      "outputs": []
    },
    {
      "cell_type": "code",
      "source": [
        "# 4,3\n",
        "# 3,4\n",
        "# 2,6\n",
        "# 6,2\n",
        "# 12,1\n",
        "# 12,1"
      ],
      "metadata": {
        "id": "ZsEqWljn-KKk"
      },
      "execution_count": null,
      "outputs": []
    },
    {
      "cell_type": "code",
      "source": [
        "arr_3[:,::2,::2].reshape(3,4)"
      ],
      "metadata": {
        "id": "xlndKs1o-vAV"
      },
      "execution_count": null,
      "outputs": []
    },
    {
      "cell_type": "code",
      "source": [
        "arr_3[:,::2,::2].reshape(4,3)"
      ],
      "metadata": {
        "id": "Bh1ayVv9-x6W"
      },
      "execution_count": null,
      "outputs": []
    },
    {
      "cell_type": "code",
      "source": [
        "arr_3[2,:,:]"
      ],
      "metadata": {
        "id": "ose-_kaA-2h6"
      },
      "execution_count": null,
      "outputs": []
    },
    {
      "cell_type": "code",
      "source": [
        "# Shape\n",
        "# Size\n",
        "# ndim\n",
        "# dtype\n",
        "# slicing and indexing\n",
        "# array\n",
        "# random.randint\n",
        "# arange\n",
        "# linspace\n",
        "# concat\n",
        "# hstack\n",
        "# vstack\n",
        "# mean\n",
        "# sum\n",
        "# median\n",
        "# sort\n",
        "# cumsum\n",
        "# argmin\n",
        "# argmax\n",
        "# argsort\n",
        "# where\n",
        "# clip\n",
        "# Broadcasting"
      ],
      "metadata": {
        "id": "cExJcsfU_RQk"
      },
      "execution_count": null,
      "outputs": []
    },
    {
      "cell_type": "code",
      "source": [
        "print(dir(np))"
      ],
      "metadata": {
        "id": "GZEmnnYzISbG"
      },
      "execution_count": null,
      "outputs": []
    },
    {
      "cell_type": "code",
      "source": [
        "arr"
      ],
      "metadata": {
        "id": "Iu4i2-7mIYFr"
      },
      "execution_count": null,
      "outputs": []
    },
    {
      "cell_type": "code",
      "source": [
        "plt.imshow(arr)\n"
      ],
      "metadata": {
        "id": "FRLYDd-kI-8w"
      },
      "execution_count": null,
      "outputs": []
    },
    {
      "cell_type": "code",
      "source": [
        "arr.shape"
      ],
      "metadata": {
        "id": "yAd4KP68JBTy"
      },
      "execution_count": null,
      "outputs": []
    },
    {
      "cell_type": "code",
      "source": [
        "# Red\n",
        "# Green\n",
        "# Blue"
      ],
      "metadata": {
        "id": "dt0y73hiJQvf"
      },
      "execution_count": null,
      "outputs": []
    },
    {
      "cell_type": "code",
      "source": [
        "plt.imshow(arr[:,:,0])\n",
        "# arr[:,:,1]\n",
        "# arr[:,:,2]"
      ],
      "metadata": {
        "id": "9njs9umhJcyV"
      },
      "execution_count": null,
      "outputs": []
    },
    {
      "cell_type": "code",
      "source": [
        "plt.imshow(arr[:,:,1])"
      ],
      "metadata": {
        "id": "JHjAA1_MJr33"
      },
      "execution_count": null,
      "outputs": []
    },
    {
      "cell_type": "code",
      "source": [
        "plt.imshow(arr[:,:,2])"
      ],
      "metadata": {
        "id": "8Iz6vd0sJ48O"
      },
      "execution_count": null,
      "outputs": []
    },
    {
      "cell_type": "code",
      "source": [
        "arr_1 = arr[:,:,0]\n",
        "arr_2 = arr[:,:,1]\n",
        "arr_3 = arr[:,:,2]"
      ],
      "metadata": {
        "id": "V9KvvSwFJ9BG"
      },
      "execution_count": null,
      "outputs": []
    },
    {
      "cell_type": "code",
      "source": [
        "# RGB"
      ],
      "metadata": {
        "id": "I7HT7opOLJtc"
      },
      "execution_count": null,
      "outputs": []
    },
    {
      "cell_type": "code",
      "source": [
        "arr_copy = arr.copy()\n",
        "arr_copy[:,:,2] = 0\n",
        "plt.imshow(arr_copy)"
      ],
      "metadata": {
        "id": "45gCEcJcKOYq"
      },
      "execution_count": null,
      "outputs": []
    },
    {
      "cell_type": "code",
      "source": [],
      "metadata": {
        "id": "4JdoPuVLKWjf"
      },
      "execution_count": null,
      "outputs": []
    },
    {
      "cell_type": "code",
      "source": [
        "arr_copy = arr.copy()\n",
        "arr_copy[:,:,0] = 255 #red\n",
        "\n",
        "# # arr_copy[:,:,1] = 255  # green\n",
        "# arr_copy[:,:,2] = 255 # blue\n",
        "plt.imshow(arr_copy)"
      ],
      "metadata": {
        "id": "5yfeLwUyKzwK"
      },
      "execution_count": null,
      "outputs": []
    },
    {
      "cell_type": "code",
      "source": [
        "plt.imshow(arr)"
      ],
      "metadata": {
        "id": "wGq2exA3K29Y"
      },
      "execution_count": null,
      "outputs": []
    },
    {
      "cell_type": "code",
      "source": [
        "arr.shape"
      ],
      "metadata": {
        "id": "lgLLr4SSM7Tb"
      },
      "execution_count": null,
      "outputs": []
    },
    {
      "cell_type": "code",
      "source": [
        "plt.imshow(arr[520:740,200:730,:])"
      ],
      "metadata": {
        "id": "X5efgFJ8M9WC"
      },
      "execution_count": null,
      "outputs": []
    },
    {
      "cell_type": "code",
      "source": [
        "plt.imshow(np.concat([arr,arr]))"
      ],
      "metadata": {
        "id": "bIyWPj6-NQlc"
      },
      "execution_count": null,
      "outputs": []
    },
    {
      "cell_type": "code",
      "source": [
        "plt.imshow(np.concat([arr,arr],axis = 1))"
      ],
      "metadata": {
        "id": "E5lXYnZvOazG"
      },
      "execution_count": null,
      "outputs": []
    },
    {
      "cell_type": "code",
      "source": [
        "# ['mohan']*5"
      ],
      "metadata": {
        "id": "PGxss76oOhH-"
      },
      "execution_count": null,
      "outputs": []
    },
    {
      "cell_type": "code",
      "source": [
        "kitna = 5\n",
        "plt.imshow(np.concat([arr]*kitna,axis = 1))"
      ],
      "metadata": {
        "id": "LXu1rE13O2t5"
      },
      "execution_count": null,
      "outputs": []
    },
    {
      "cell_type": "code",
      "source": [
        "copy = 5\n",
        "final_arr = np.concat([arr]*copy,axis = 1)\n",
        "plt.axis('off')\n",
        "plt.imshow(np.concat([final_arr]*2))\n",
        "plt.tight_layout()\n",
        "plt.savefig('Amit_ji.jpeg',dpi = 3000)"
      ],
      "metadata": {
        "id": "ddmaZqbhO_f-"
      },
      "execution_count": null,
      "outputs": []
    },
    {
      "cell_type": "code",
      "source": [
        "# linspace\n",
        "\n",
        "a = np.linspace(1,10,5)\n",
        "print(a)"
      ],
      "metadata": {
        "id": "RPVVmSYeQDWU"
      },
      "execution_count": null,
      "outputs": []
    },
    {
      "cell_type": "code",
      "source": [
        "a = np.linspace(1,10)\n",
        "print(a)"
      ],
      "metadata": {
        "id": "QDO8dj4VVw0k"
      },
      "execution_count": null,
      "outputs": []
    },
    {
      "cell_type": "code",
      "source": [
        "data = np.linspace(-10,10, 500)\n",
        "plt.plot(np.sin(data))\n",
        "plt.show()"
      ],
      "metadata": {
        "id": "8Kem-g2EWjMu"
      },
      "execution_count": null,
      "outputs": []
    },
    {
      "cell_type": "code",
      "source": [
        "a = np.arange(1,50).reshape(7,7)\n",
        "a"
      ],
      "metadata": {
        "id": "Tu7jRJ3sXnMs"
      },
      "execution_count": null,
      "outputs": []
    },
    {
      "cell_type": "code",
      "source": [],
      "metadata": {
        "id": "nS0vuRi1be5U"
      },
      "execution_count": null,
      "outputs": []
    },
    {
      "cell_type": "code",
      "source": [
        "plt.imshow(np.arange(0,256).reshape(16,16))"
      ],
      "metadata": {
        "id": "1phiVWoeY2fr"
      },
      "execution_count": null,
      "outputs": []
    },
    {
      "cell_type": "code",
      "source": [
        "np.arange(0,256).reshape(4,8,8)"
      ],
      "metadata": {
        "id": "-g5iw454ady0"
      },
      "execution_count": null,
      "outputs": []
    },
    {
      "cell_type": "code",
      "source": [
        "sales = np.random.randint(1,1000,(5,5))\n",
        "sales"
      ],
      "metadata": {
        "id": "VqXbnQdbahPU"
      },
      "execution_count": null,
      "outputs": []
    },
    {
      "cell_type": "code",
      "source": [
        "arr"
      ],
      "metadata": {
        "id": "F-7HDERNa6BX"
      },
      "execution_count": null,
      "outputs": []
    },
    {
      "cell_type": "code",
      "source": [],
      "metadata": {
        "id": "wz9lmRlchuQi"
      },
      "execution_count": null,
      "outputs": []
    }
  ]
}