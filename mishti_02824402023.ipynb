{
 "cells": [
  {
   "cell_type": "code",
   "execution_count": null,
   "id": "10b829d9-b2b3-46f2-997e-201d99c15f95",
   "metadata": {},
   "outputs": [],
   "source": [
    "#Q1\n",
    "# list is  mutable means we can add and remove data from it and tuple is  immutable means we cannont add or remove after we made the data\n",
    "in  list we use square brackets[] and in tuple we use parenthesis ()\n",
    "eg- of list \n",
    "a=[apple,mango,orange]\n",
    "eg- of tuple\n",
    "b=(tree,plant,branch)"
   ]
  },
  {
   "cell_type": "code",
   "execution_count": 4,
   "id": "9631631f-ed26-4f19-8b6c-ad6e939dfc44",
   "metadata": {},
   "outputs": [],
   "source": [
    "#Q3\n",
    "#dictionaryis a data type that store  key value pair in python \n",
    "#eg in dictionary are- \n",
    "dict1={\"name\":\"mishti\",\n",
    "        \"age\":19,\n",
    "      \"course\":\"bca\"}\n"
   ]
  },
  {
   "cell_type": "code",
   "execution_count": null,
   "id": "9162de3a-f07e-451f-b2ed-8d0f9230a526",
   "metadata": {},
   "outputs": [],
   "source": [
    " #Q2 input() function in python helps to ask  the input from the user \n",
    "# it always return a string\n"
   ]
  },
  {
   "cell_type": "code",
   "execution_count": 5,
   "id": "315b12e7-c8f7-454f-9e3e-a5ca6a8f9663",
   "metadata": {},
   "outputs": [],
   "source": [
    "#Q7\n",
    "#oops in python has four pillars- polymorphism,encapsulation,abstraction and inheritence\n",
    "#it helps the code to organize in classes,class is a blueprint and object is a instance of a class\n",
    "class Dog:\n",
    "    def __init__(self, name):\n",
    "        self.name = name\n",
    "\n",
    "d = Dog(\"Buddy\")\n",
    "\n"
   ]
  },
  {
   "cell_type": "code",
   "execution_count": 9,
   "id": "6179b164-0ba4-4966-a6cc-47c0ed5eb61d",
   "metadata": {},
   "outputs": [],
   "source": [
    "#Q5\n",
    "#exception handling helps to run code whether you have error in your code or not\n",
    "#try block has the error ,except block where it shows the error and finally help to run the code even after the error23\n",
    "\n"
   ]
  },
  {
   "cell_type": "code",
   "execution_count": 26,
   "id": "7505d9c5-f7ef-4683-9c36-d27d8e7ad875",
   "metadata": {},
   "outputs": [
    {
     "name": "stdin",
     "output_type": "stream",
     "text": [
      "Enter a number:  4\n"
     ]
    },
    {
     "name": "stdout",
     "output_type": "stream",
     "text": [
      "Result is: 0.0\n",
      "Program has finished running.\n"
     ]
    }
   ],
   "source": [
    "try:\n",
    "    num = int(input(\"Enter a number: \"))\n",
    "    result = 0 / num\n",
    "    print(\"Result is:\", result)\n",
    "except ZeroDivisionError:\n",
    "    print(\"You can't divide by zero!\")\n",
    "finally:\n",
    "    print(\"Program has finished running.\")"
   ]
  },
  {
   "cell_type": "code",
   "execution_count": 28,
   "id": "7263956e-70ad-40d8-9551-ecd64a9112cc",
   "metadata": {},
   "outputs": [],
   "source": [
    "#Q4\n",
    "# It helps to run the same code multiple times and help to iterate \n",
    "# example - \n"
   ]
  },
  {
   "cell_type": "code",
   "execution_count": 37,
   "id": "12a93357-0ab9-44bb-8f5a-e5b3bfbec7b4",
   "metadata": {},
   "outputs": [
    {
     "name": "stdout",
     "output_type": "stream",
     "text": [
      "1\n",
      "2\n",
      "3\n",
      "4\n",
      "5\n"
     ]
    }
   ],
   "source": [
    "for i in range(1, 6):\n",
    "    print(i)\n",
    "\n"
   ]
  },
  {
   "cell_type": "code",
   "execution_count": null,
   "id": "cec153d1-af8d-46be-aa26-e978e5b9c852",
   "metadata": {},
   "outputs": [],
   "source": [
    "#Q6\n",
    "#modules are the file in which it has reusable codes\n",
    "# Python has built-in modules \n",
    "# import math imports the entire math module.use math. prefix to access functions.\n",
    "# from math import sqrt imports only the sqrt function from the math module.\n"
   ]
  },
  {
   "cell_type": "code",
   "execution_count": 39,
   "id": "ebc019b1-de3d-489d-8643-db35b9d67294",
   "metadata": {},
   "outputs": [
    {
     "name": "stdin",
     "output_type": "stream",
     "text": [
      "what is your name mishti\n",
      "what is your age 12\n"
     ]
    },
    {
     "name": "stdout",
     "output_type": "stream",
     "text": [
      "hello mishti,your age 12, year old\n"
     ]
    }
   ],
   "source": [
    "#Q10\n",
    "name =input(\"what is your name\")\n",
    "age=input(\"what is your age\")\n",
    "print(f\"hello {name},your age {age}, year old\")"
   ]
  },
  {
   "cell_type": "code",
   "execution_count": 45,
   "id": "7a36b768-e881-4fdc-aa9e-b792cccdea64",
   "metadata": {},
   "outputs": [
    {
     "name": "stdout",
     "output_type": "stream",
     "text": [
      "0,mango\n",
      "1,orange\n",
      "2,papaya\n"
     ]
    }
   ],
   "source": [
    "#Q11\n",
    "fruits=[\"mango\",\"orange\",\"papaya\"]\n",
    "for i in range (len(fruits)):\n",
    "  print(f\"{i},{fruits[i]}\")"
   ]
  },
  {
   "cell_type": "code",
   "execution_count": null,
   "id": "6b6f6993-3c9b-4372-8a4d-8495c7befd5d",
   "metadata": {},
   "outputs": [],
   "source": [
    "#Q8\n",
    "#list comprehension is help to create list in a single line code"
   ]
  },
  {
   "cell_type": "code",
   "execution_count": null,
   "id": "f31baa59-b646-48dd-8e7a-ca0cb1d0e04d",
   "metadata": {},
   "outputs": [],
   "source": []
  }
 ],
 "metadata": {
  "kernelspec": {
   "display_name": "Python [conda env:base] *",
   "language": "python",
   "name": "conda-base-py"
  },
  "language_info": {
   "codemirror_mode": {
    "name": "ipython",
    "version": 3
   },
   "file_extension": ".py",
   "mimetype": "text/x-python",
   "name": "python",
   "nbconvert_exporter": "python",
   "pygments_lexer": "ipython3",
   "version": "3.13.5"
  }
 },
 "nbformat": 4,
 "nbformat_minor": 5
}
